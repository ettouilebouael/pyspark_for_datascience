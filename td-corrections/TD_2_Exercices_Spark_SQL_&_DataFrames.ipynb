{
 "cells": [
  {
   "cell_type": "code",
   "execution_count": null,
   "metadata": {
    "colab": {
     "base_uri": "https://localhost:8080/"
    },
    "id": "QReFQD90voKu",
    "outputId": "083f5f11-f327-436f-dafa-08f79f9e5c6f"
   },
   "outputs": [
    {
     "name": "stdout",
     "output_type": "stream",
     "text": [
      "Requirement already satisfied: pyspark in /usr/local/lib/python3.10/dist-packages (3.5.3)\n",
      "Requirement already satisfied: py4j==0.10.9.7 in /usr/local/lib/python3.10/dist-packages (from pyspark) (0.10.9.7)\n"
     ]
    }
   ],
   "source": [
    "# Installer PySpark\n",
    "!pip install pyspark"
   ]
  },
  {
   "cell_type": "code",
   "execution_count": 2,
   "metadata": {
    "id": "RoBiaP5wvwwO"
   },
   "outputs": [],
   "source": [
    "from pyspark.sql import SparkSession, Window\n",
    "from pyspark.sql import functions as F"
   ]
  },
  {
   "cell_type": "code",
   "execution_count": 3,
   "metadata": {
    "id": "Fyn9TQy4vybx"
   },
   "outputs": [],
   "source": [
    "# Initialiser SparkSession\n",
    "spark = SparkSession.builder.appName(\"TD2\").getOrCreate()"
   ]
  },
  {
   "cell_type": "markdown",
   "metadata": {
    "id": "5OkYrwwqtN1-"
   },
   "source": [
    "# Exercice 1"
   ]
  },
  {
   "cell_type": "markdown",
   "metadata": {
    "id": "4_yUwRXftQYN"
   },
   "source": [
    "## 1 - Loader le Dataset des transactions"
   ]
  },
  {
   "cell_type": "code",
   "execution_count": null,
   "metadata": {
    "id": "X553dckTtYe-"
   },
   "outputs": [],
   "source": []
  },
  {
   "cell_type": "markdown",
   "metadata": {
    "id": "lb4-gH0St6MT"
   },
   "source": [
    "## 2 - Calculer le panier moyen de chaque client"
   ]
  },
  {
   "cell_type": "code",
   "execution_count": null,
   "metadata": {
    "colab": {
     "base_uri": "https://localhost:8080/",
     "height": 363
    },
    "id": "nnCTUP4vt9c6",
    "outputId": "a5ff5688-062a-4dc6-8fee-47bd80fd1739"
   },
   "outputs": [],
   "source": []
  },
  {
   "cell_type": "markdown",
   "metadata": {
    "id": "sRF6UYuVtecw"
   },
   "source": [
    "## 3 - Calculer la récence de chaque client (nombre de jours depuis le premier achat) par rapport à la date maximale"
   ]
  },
  {
   "cell_type": "code",
   "execution_count": null,
   "metadata": {
    "colab": {
     "base_uri": "https://localhost:8080/",
     "height": 363
    },
    "id": "29-enINat39V",
    "outputId": "4fbfa734-475c-42e2-bfd6-c0f95fc937e3"
   },
   "outputs": [],
   "source": []
  },
  {
   "cell_type": "markdown",
   "metadata": {
    "id": "3f7E3aYIuC07"
   },
   "source": [
    "## 4 - Proposer un ranking des boutiques en terme de CA"
   ]
  },
  {
   "cell_type": "code",
   "execution_count": null,
   "metadata": {
    "colab": {
     "base_uri": "https://localhost:8080/",
     "height": 363
    },
    "id": "ewyrSaiBuKhH",
    "outputId": "9aad27de-aeb6-4f1f-d470-a036adadf856"
   },
   "outputs": [],
   "source": []
  },
  {
   "cell_type": "markdown",
   "metadata": {
    "id": "Lk_m6SnnvD7r"
   },
   "source": [
    "## 5 - Calculer le pourcentage de CA généré par chaque boutique"
   ]
  },
  {
   "cell_type": "code",
   "execution_count": null,
   "metadata": {
    "colab": {
     "base_uri": "https://localhost:8080/",
     "height": 363
    },
    "id": "uhgLIgHfvB48",
    "outputId": "91607c92-86e9-4420-ce3c-9c3ffd218048"
   },
   "outputs": [],
   "source": []
  }
 ],
 "metadata": {
  "colab": {
   "provenance": []
  },
  "kernelspec": {
   "display_name": "Python 3",
   "name": "python3"
  },
  "language_info": {
   "name": "python"
  }
 },
 "nbformat": 4,
 "nbformat_minor": 0
}
