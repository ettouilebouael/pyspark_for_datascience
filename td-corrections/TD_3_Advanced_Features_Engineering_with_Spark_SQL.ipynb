{
  "nbformat": 4,
  "nbformat_minor": 0,
  "metadata": {
    "colab": {
      "provenance": []
    },
    "kernelspec": {
      "name": "python3",
      "display_name": "Python 3"
    },
    "language_info": {
      "name": "python"
    }
  },
  "cells": [
    {
      "cell_type": "code",
      "execution_count": 1,
      "metadata": {
        "colab": {
          "base_uri": "https://localhost:8080/"
        },
        "id": "miyQbvDWiSr3",
        "outputId": "80acbed2-1691-4d4a-9366-ac13306ee27d"
      },
      "outputs": [
        {
          "output_type": "stream",
          "name": "stdout",
          "text": [
            "Requirement already satisfied: pyspark in /usr/local/lib/python3.10/dist-packages (3.5.3)\n",
            "Requirement already satisfied: py4j==0.10.9.7 in /usr/local/lib/python3.10/dist-packages (from pyspark) (0.10.9.7)\n"
          ]
        }
      ],
      "source": [
        "!pip install pyspark"
      ]
    },
    {
      "cell_type": "code",
      "source": [
        "import pandas as pd\n",
        "\n",
        "from pyspark.sql import SparkSession, Window\n",
        "from pyspark.sql import functions as F\n",
        "\n",
        "from google.colab import drive\n",
        "drive.mount('/content/drive')\n",
        "\n",
        "INPUT_DATA_PATH  = \"/content/drive/MyDrive/basic_features\""
      ],
      "metadata": {
        "colab": {
          "base_uri": "https://localhost:8080/"
        },
        "id": "EL7BAwjIBrR1",
        "outputId": "910494a8-7cbb-4288-bb1e-b717634cd87a"
      },
      "execution_count": 2,
      "outputs": [
        {
          "output_type": "stream",
          "name": "stdout",
          "text": [
            "Mounted at /content/drive\n"
          ]
        }
      ]
    },
    {
      "cell_type": "code",
      "source": [
        "spark = SparkSession.builder.getOrCreate()"
      ],
      "metadata": {
        "id": "y4lJKotqB2Yy"
      },
      "execution_count": 3,
      "outputs": []
    },
    {
      "cell_type": "markdown",
      "source": [
        "# Import Data"
      ],
      "metadata": {
        "id": "EiUpEJyYsmDa"
      }
    },
    {
      "cell_type": "code",
      "source": [
        "# Preprocessed Walmart Dataset\n",
        "df = spark.read.parquet(INPUT_DATA_PATH)"
      ],
      "metadata": {
        "id": "ms4-rddYC54q"
      },
      "execution_count": 4,
      "outputs": []
    },
    {
      "cell_type": "markdown",
      "source": [
        "# 1 - Calcul du Chiffre D'affaire"
      ],
      "metadata": {
        "id": "aiN3sWqisYaN"
      }
    },
    {
      "cell_type": "code",
      "source": [
        "df = (\n",
        "    df\n",
        "    .withColumn(\"ca\", F.col(\"sales\") * F.col(\"avg_price\"))\n",
        "    .fillna(0, subset = [\"ca\"])\n",
        ")"
      ],
      "metadata": {
        "id": "RFiy5KpMCIqV"
      },
      "execution_count": 5,
      "outputs": []
    },
    {
      "cell_type": "markdown",
      "source": [
        "# 2 - Encodage Cyclique des Mois\n",
        "\n",
        "L'encodage cyclique est une technique utile pour représenter des variables temporelles/périodique, comme les mois de l'année. Les mois peuvent être représentés par des valeurs qui varient de 1 à 12, mais en raison de leur nature cyclique, il est préférable de les encoder en utilisant les fonctions sinus et cosinus permettant ainsi aux modèles de machine learning de mieux capter la saisonalité.\n",
        "\n",
        "Pour calculer les coordonnées \\( X \\) et \\( Y \\) de chaque mois sur un cercle unité, les formules sont les suivantes :\n",
        "\n",
        "- Soit \\( m \\) le numéro du mois (variant de 1 à 12).\n",
        "- La coordonnée \\( X \\) est donnée par :\n",
        "\n",
        "  $$ X = \\cos\\left( \\frac{2 \\pi \\times m}{12} \\right) $$\n",
        "\n",
        "- La coordonnée \\( Y \\) est donnée par :\n",
        "\n",
        "  $$ Y = \\sin\\left( \\frac{2 \\pi \\times m }{12} \\right) $$\n",
        "\n",
        "\n"
      ],
      "metadata": {
        "id": "__dKIKqMiXdV"
      }
    },
    {
      "cell_type": "code",
      "source": [
        "df = (\n",
        "    df\n",
        "    .withColumn(\"cos_month\", F.cos((2 * F.pi() * F.col(\"month\")) / 12))\n",
        "    .withColumn(\"sin_month\", F.sin((2 * F.pi() * F.col(\"month\")) / 12))\n",
        ")"
      ],
      "metadata": {
        "id": "kvuqsouGjSrQ"
      },
      "execution_count": 6,
      "outputs": []
    },
    {
      "cell_type": "markdown",
      "source": [
        "# 3 - Quotas de marché\n",
        "Les quotas de marché represente la part des ventes de chaque produit par rapport au total du marché.\n",
        "\n",
        "Dans notre cas, nous supposerons que chaque catégorie (colonne cat_id) de produit représente le marché correspondant à chaque produit.\n",
        "\n",
        "Pour calculer la part de marché de chaque produit, on divise les ventes de chaque produit par le total des ventes de sa catégorie.\n",
        "\n",
        "Il est important de prendre en compte uniquement les observations qui précèdent la date d’observation afin d’éviter tout risque de data leakage.\n",
        "\n",
        "Par exemple, pour une observation datée du 1er janvier 2020, il est essentiel de réaliser les calculs uniquement sur les observations datées avant cette date. Si les observations ultérieures sont incluses dans le calcul, cela introduirait du data leakage."
      ],
      "metadata": {
        "id": "E_-OuDrZkbi5"
      }
    },
    {
      "cell_type": "markdown",
      "source": [
        "Hint : https://spark.apache.org/docs/latest/api/python/reference/pyspark.sql/api/pyspark.sql.Window.rangeBetween.html"
      ],
      "metadata": {
        "id": "lF6qn72UH3Vv"
      }
    },
    {
      "cell_type": "code",
      "source": [
        "w_category = (\n",
        "    Window.partitionBy(\"cat_id\")\n",
        "    .orderBy(F.asc(\"date\"))\n",
        "    .rangeBetween(\n",
        "        start=Window.unboundedPreceding,\n",
        "        end=0,\n",
        "    )\n",
        ")\n",
        "\n",
        "w_item = (\n",
        "    Window.partitionBy(\"item_id\")\n",
        "    .orderBy(F.asc(\"date\"))\n",
        "    .rangeBetween(\n",
        "        start=Window.unboundedPreceding,\n",
        "        end=0,\n",
        "    )\n",
        ")\n",
        "\n",
        "df = (\n",
        "    df\n",
        "    .withColumn(\n",
        "        \"ca_category\", F.sum(\"ca\").over(w_category)\n",
        "    )\n",
        "    .withColumn(\n",
        "        \"ca_item\", F.sum(\"ca\").over(w_item)\n",
        "    )\n",
        "    .withColumn(\"item_market_quota\", F.col(\"ca_item\") / F.col(\"ca_category\"))\n",
        ")"
      ],
      "metadata": {
        "id": "Gnlt2hQ1kaOh"
      },
      "execution_count": 7,
      "outputs": []
    },
    {
      "cell_type": "markdown",
      "source": [
        "# 3 - Segmentation ABC\n",
        "La segmentation ABC classe les produits en trois catégories selon leur importance économique :\n",
        "\n",
        "* A : produits qui génèrent 80 % des ventes. Ce sont les produits les plus stratégiques.\n",
        "* B : produits qui génèrent 15 % des ventes. Importance modérée.\n",
        "* C : produits qui génèrent 5 % des ventes.\n",
        "\n",
        "Dans notre cas, nous allons utiliser le pourcentage du chiffre d’affaires généré par chaque produit par rapport au chiffre d’affaires global de Walmart.\n",
        "\n",
        "Hint : Les window functions et les when/otherwise sont vos meilleurs amis  !"
      ],
      "metadata": {
        "id": "zMnGFGzYnUoL"
      }
    },
    {
      "cell_type": "code",
      "source": [
        "w_walmart = (\n",
        "    Window\n",
        "    .partitionBy()\n",
        "    .orderBy(F.asc(\"date\"))\n",
        "    .rangeBetween(\n",
        "        start=Window.unboundedPreceding,\n",
        "        end=0,\n",
        "    )\n",
        ")\n",
        "w_month = (\n",
        "    Window\n",
        "    .partitionBy(\"date\")\n",
        "    .orderBy(F.desc(\"ca_item\"))\n",
        ")\n",
        "\n",
        "df = (\n",
        "    df\n",
        "    .withColumn(\"ca_walmart\", F.sum(\"ca\").over(w_walmart))\n",
        "    .withColumn(\"pct_ca_item\", F.col(\"ca_item\") / F.col(\"ca_walmart\"))\n",
        "    .withColumn(\"cum_pct_item\", F.sum(\"pct_ca_item\").over(w_month))\n",
        "\n",
        "    .withColumn(\n",
        "        \"product_perf_category\",\n",
        "        F.when(F.col(\"cum_pct_item\") <= 0.8, \"A\")\n",
        "        .when(F.col(\"cum_pct_item\") <= 0.95, \"B\")\n",
        "        .otherwise(\"C\")\n",
        "    )\n",
        ")"
      ],
      "metadata": {
        "id": "6akW7qi2n4-y"
      },
      "execution_count": 9,
      "outputs": []
    },
    {
      "cell_type": "markdown",
      "source": [
        "#4 - Lags statistiques agrégés\n",
        "Les lags agrégés consistent à appliquer lags sur des agrégations (comme la somme, la moyenne, le minimum, le maximum) sur une fenêtre."
      ],
      "metadata": {
        "id": "yBV1y0FKp8Cd"
      }
    },
    {
      "cell_type": "code",
      "source": [
        "# Moyennes des ventes sur les 3 derniers mois pour chaque produit\n",
        "w_ts = (\n",
        "    Window\n",
        "    .partitionBy(\"item_id\", \"store_id\")\n",
        "    .orderBy(F.asc(F.col(\"date\")))\n",
        "    .rowsBetween(\n",
        "        start=-2,\n",
        "        end=0,\n",
        "    )\n",
        ")\n",
        "df = (\n",
        "    df\n",
        "    .withColumn(\"avg_ca_3months\", F.avg(\"ca\").over(w_ts))\n",
        ")"
      ],
      "metadata": {
        "id": "Cawn4uRDp9sM"
      },
      "execution_count": 10,
      "outputs": []
    },
    {
      "cell_type": "code",
      "source": [
        "# Lags des Moyennes des ventes sur les 3 derniers mois\n",
        "ts_date_window = Window.partitionBy(\"item_id\", \"store_id\").orderBy(F.asc(\"date\"))\n",
        "n_lags = 12\n",
        "for i in range(1, n_lags + 1):\n",
        "    df = (\n",
        "        df\n",
        "        .withColumn(f\"avg_3month_lag{i}\", F.lag(\"avg_ca_3months\", i).over(ts_date_window))\n",
        "    )"
      ],
      "metadata": {
        "id": "8gid_SxJrcgB"
      },
      "execution_count": 11,
      "outputs": []
    },
    {
      "cell_type": "markdown",
      "source": [
        "# Sauvegarde des résultats de calculs sur un fichier pour une série temporelle pour validation des résultats\n"
      ],
      "metadata": {
        "id": "JDVwR6sugmuk"
      }
    },
    {
      "cell_type": "code",
      "source": [
        "df.filter(F.col(\"id\") == \"FOODS_1_001_CA_1_validation\").toPandas().to_csv(\"extract_2.csv\", sep=\";\")"
      ],
      "metadata": {
        "id": "wFoIdDjpRdjo"
      },
      "execution_count": null,
      "outputs": []
    }
  ]
}