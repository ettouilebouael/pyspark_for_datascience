{
 "cells": [
  {
   "cell_type": "code",
   "execution_count": 1,
   "metadata": {
    "colab": {
     "base_uri": "https://localhost:8080/"
    },
    "id": "miyQbvDWiSr3",
    "outputId": "80acbed2-1691-4d4a-9366-ac13306ee27d"
   },
   "outputs": [
    {
     "name": "stdout",
     "output_type": "stream",
     "text": [
      "Requirement already satisfied: pyspark in /usr/local/lib/python3.10/dist-packages (3.5.3)\n",
      "Requirement already satisfied: py4j==0.10.9.7 in /usr/local/lib/python3.10/dist-packages (from pyspark) (0.10.9.7)\n"
     ]
    }
   ],
   "source": [
    "!pip install pyspark"
   ]
  },
  {
   "cell_type": "code",
   "execution_count": 2,
   "metadata": {
    "colab": {
     "base_uri": "https://localhost:8080/"
    },
    "id": "EL7BAwjIBrR1",
    "outputId": "910494a8-7cbb-4288-bb1e-b717634cd87a"
   },
   "outputs": [
    {
     "name": "stdout",
     "output_type": "stream",
     "text": [
      "Mounted at /content/drive\n"
     ]
    }
   ],
   "source": [
    "import pandas as pd\n",
    "\n",
    "from pyspark.sql import SparkSession, Window\n",
    "from pyspark.sql import functions as F\n",
    "\n",
    "from google.colab import drive\n",
    "drive.mount('/content/drive')\n",
    "\n",
    "INPUT_DATA_PATH  = \"/content/drive/MyDrive/basic_features\""
   ]
  },
  {
   "cell_type": "code",
   "execution_count": 3,
   "metadata": {
    "id": "y4lJKotqB2Yy"
   },
   "outputs": [],
   "source": [
    "spark = SparkSession.builder.getOrCreate()"
   ]
  },
  {
   "cell_type": "markdown",
   "metadata": {
    "id": "EiUpEJyYsmDa"
   },
   "source": [
    "# Import Data"
   ]
  },
  {
   "cell_type": "code",
   "execution_count": 4,
   "metadata": {
    "id": "ms4-rddYC54q"
   },
   "outputs": [],
   "source": [
    "# Preprocessed Walmart Dataset\n",
    "df = spark.read.parquet(INPUT_DATA_PATH)"
   ]
  },
  {
   "cell_type": "markdown",
   "metadata": {
    "id": "aiN3sWqisYaN"
   },
   "source": [
    "# 1 - Calcul du Chiffre D'affaire"
   ]
  },
  {
   "cell_type": "code",
   "execution_count": null,
   "metadata": {
    "id": "RFiy5KpMCIqV"
   },
   "outputs": [],
   "source": []
  },
  {
   "cell_type": "markdown",
   "metadata": {
    "id": "__dKIKqMiXdV"
   },
   "source": [
    "# 2 - Encodage Cyclique des Mois\n",
    "\n",
    "L'encodage cyclique est une technique utile pour représenter des variables temporelles/périodique, comme les mois de l'année. Les mois peuvent être représentés par des valeurs qui varient de 1 à 12, mais en raison de leur nature cyclique, il est préférable de les encoder en utilisant les fonctions sinus et cosinus permettant ainsi aux modèles de machine learning de mieux capter la saisonalité.\n",
    "\n",
    "Pour calculer les coordonnées \\( X \\) et \\( Y \\) de chaque mois sur un cercle unité, les formules sont les suivantes :\n",
    "\n",
    "- Soit \\( m \\) le numéro du mois (variant de 1 à 12).\n",
    "- La coordonnée \\( X \\) est donnée par :\n",
    "\n",
    "  $$ X = \\cos\\left( \\frac{2 \\pi \\times m}{12} \\right) $$\n",
    "\n",
    "- La coordonnée \\( Y \\) est donnée par :\n",
    "\n",
    "  $$ Y = \\sin\\left( \\frac{2 \\pi \\times m }{12} \\right) $$\n",
    "\n",
    "\n"
   ]
  },
  {
   "cell_type": "code",
   "execution_count": null,
   "metadata": {
    "id": "kvuqsouGjSrQ"
   },
   "outputs": [],
   "source": []
  },
  {
   "cell_type": "markdown",
   "metadata": {
    "id": "E_-OuDrZkbi5"
   },
   "source": [
    "# 3 - Quotas de marché\n",
    "Les quotas de marché represente la part des ventes de chaque produit par rapport au total du marché.\n",
    "\n",
    "Dans notre cas, nous supposerons que chaque catégorie (colonne cat_id) de produit représente le marché correspondant à chaque produit.\n",
    "\n",
    "Pour calculer la part de marché de chaque produit, on divise les ventes de chaque produit par le total des ventes de sa catégorie.\n",
    "\n",
    "Il est important de prendre en compte uniquement les observations qui précèdent la date d’observation afin d’éviter tout risque de data leakage.\n",
    "\n",
    "Par exemple, pour une observation datée du 1er janvier 2020, il est essentiel de réaliser les calculs uniquement sur les observations datées avant cette date. Si les observations ultérieures sont incluses dans le calcul, cela introduirait du data leakage."
   ]
  },
  {
   "cell_type": "markdown",
   "metadata": {
    "id": "lF6qn72UH3Vv"
   },
   "source": [
    "Hint : https://spark.apache.org/docs/latest/api/python/reference/pyspark.sql/api/pyspark.sql.Window.rangeBetween.html"
   ]
  },
  {
   "cell_type": "code",
   "execution_count": null,
   "metadata": {
    "id": "Gnlt2hQ1kaOh"
   },
   "outputs": [],
   "source": []
  },
  {
   "cell_type": "markdown",
   "metadata": {
    "id": "zMnGFGzYnUoL"
   },
   "source": [
    "# 3 - Segmentation ABC\n",
    "La segmentation ABC classe les produits en trois catégories selon leur importance économique :\n",
    "\n",
    "* A : produits qui génèrent 80 % des ventes. Ce sont les produits les plus stratégiques.\n",
    "* B : produits qui génèrent 15 % des ventes. Importance modérée.\n",
    "* C : produits qui génèrent 5 % des ventes.\n",
    "\n",
    "Dans notre cas, nous allons utiliser le pourcentage du chiffre d’affaires généré par chaque produit par rapport au chiffre d’affaires global de Walmart.\n",
    "\n",
    "Hint : Les window functions et les when/otherwise sont vos meilleurs amis  !"
   ]
  },
  {
   "cell_type": "code",
   "execution_count": null,
   "metadata": {
    "id": "6akW7qi2n4-y"
   },
   "outputs": [],
   "source": []
  },
  {
   "cell_type": "markdown",
   "metadata": {
    "id": "yBV1y0FKp8Cd"
   },
   "source": [
    "# 4 - Lags statistiques agrégés\n",
    "Les lags agrégés consistent à appliquer lags sur des agrégations (comme la somme, la moyenne, le minimum, le maximum) sur une fenêtre."
   ]
  },
  {
   "cell_type": "code",
   "execution_count": null,
   "metadata": {
    "id": "Cawn4uRDp9sM"
   },
   "outputs": [],
   "source": [
    "# Moyennes des ventes sur les 3 derniers mois pour chaque produit"
   ]
  },
  {
   "cell_type": "code",
   "execution_count": null,
   "metadata": {
    "id": "8gid_SxJrcgB"
   },
   "outputs": [],
   "source": [
    "# Lags des Moyennes des ventes sur les 3 derniers mois"
   ]
  },
  {
   "cell_type": "markdown",
   "metadata": {
    "id": "JDVwR6sugmuk"
   },
   "source": [
    "# Sauvegarde des résultats de calculs sur un fichier pour une série temporelle pour validation des résultats\n"
   ]
  },
  {
   "cell_type": "code",
   "execution_count": null,
   "metadata": {
    "id": "wFoIdDjpRdjo"
   },
   "outputs": [],
   "source": []
  }
 ],
 "metadata": {
  "colab": {
   "provenance": []
  },
  "kernelspec": {
   "display_name": "Python 3",
   "name": "python3"
  },
  "language_info": {
   "name": "python"
  }
 },
 "nbformat": 4,
 "nbformat_minor": 0
}
