{
 "cells": [
  {
   "cell_type": "code",
   "execution_count": null,
   "metadata": {
    "colab": {
     "base_uri": "https://localhost:8080/"
    },
    "id": "ihbRcvJU4JN4",
    "outputId": "b9bed614-cf96-4b2c-e305-95ec3e45bd07"
   },
   "outputs": [
    {
     "name": "stdout",
     "output_type": "stream",
     "text": [
      "Requirement already satisfied: pyspark in /usr/local/lib/python3.10/dist-packages (3.5.3)\n",
      "Requirement already satisfied: py4j==0.10.9.7 in /usr/local/lib/python3.10/dist-packages (from pyspark) (0.10.9.7)\n"
     ]
    }
   ],
   "source": [
    "pip install pyspark"
   ]
  },
  {
   "cell_type": "markdown",
   "metadata": {
    "id": "84511644"
   },
   "source": [
    "\n",
    "# TD 1 - Transformations et Actions sur RDDs avec PySpark\n",
    "\n",
    "Dans ce TD, nous allons explorer l'utilisation de l'API RDD de **PySpark** pour effectuer des opérations de manipulation et d'analyse de données. Ce TD vous permettra de pratiquer différentes transformations et actions sur des données distribuées.\n",
    "\n",
    "Nous introduirons également un exercice utilisant **Spark SQL** pour comparer l'utilisation des RDDs et des DataFrames dans des scénarios d'analyse de données.\n",
    "\n",
    "## Objectifs :\n",
    "- Comprendre et manipuler les RDDs avec PySpark.\n",
    "- Appliquer des transformations et actions sur les données.\n",
    "- Utiliser Spark SQL pour effectuer des requêtes analytiques.\n",
    "\n"
   ]
  },
  {
   "cell_type": "markdown",
   "metadata": {
    "id": "542e57b0"
   },
   "source": [
    "## Initialisation de SparkContext\n",
    "\n",
    "Le **SparkContext** est nécessaire pour initialiser et gérer toutes les opérations dans Spark. Assurez-vous que votre SparkContext est bien créé avant de manipuler des RDDs.\n"
   ]
  },
  {
   "cell_type": "code",
   "execution_count": null,
   "metadata": {
    "id": "SFDx3IEHjJNp"
   },
   "outputs": [],
   "source": []
  },
  {
   "cell_type": "markdown",
   "metadata": {
    "id": "v14UOwg8kA4v"
   },
   "source": [
    "## Exercice 1 : Transformations et Actions\n",
    "\n",
    "Nous avons un jeu de données simple contenant des informations sur des livres, avec le format suivant :\n",
    "(titre, auteur, année de publication, genre, prix).\n"
   ]
  },
  {
   "cell_type": "code",
   "execution_count": 3,
   "metadata": {
    "id": "jx_7g9mpjVoc"
   },
   "outputs": [],
   "source": [
    "books = [\n",
    "    (\"Les Misérables\", \"Victor Hugo\", 1862, \"Roman\", 12.99),\n",
    "    (\"Le Rouge et le Noir\", \"Stendhal\", 1830, \"Roman\", 9.99),\n",
    "    (\"Candide\", \"Voltaire\", 1759, \"Philosophie\", 8.99),\n",
    "    (\"L'Étranger\", \"Albert Camus\", 1942, \"Roman\", 10.99),\n",
    "    (\"Le Père Goriot\", \"Honoré de Balzac\", 1834, \"Roman\", 7.99),\n",
    "    (\"Discours de la méthode\", \"René Descartes\", 1637, \"Philosophie\", 15.99),\n",
    "]"
   ]
  },
  {
   "cell_type": "markdown",
   "metadata": {
    "id": "onoSaQI4kTyZ"
   },
   "source": [
    "### 1 - Créer un RDD à partir du jeu de données books"
   ]
  },
  {
   "cell_type": "code",
   "execution_count": null,
   "metadata": {
    "id": "Z1cT0AXFkKOq"
   },
   "outputs": [],
   "source": []
  },
  {
   "cell_type": "markdown",
   "metadata": {
    "id": "rWWgLqYQlA3W"
   },
   "source": [
    "### 2 - Utilisez map pour extraire uniquement les titres des livres et collecter le résultat avec collect.\n",
    "1. map est une transformation ou une action ?\n",
    "2. Quelle est la nature de l’opération map (narrow ou wide) ?\n",
    "3. Si le volume de données augmente quel est risque d'utiliser l'opération collect ?\n",
    "\n",
    "\n",
    "\n",
    "\t    "
   ]
  },
  {
   "cell_type": "code",
   "execution_count": null,
   "metadata": {
    "colab": {
     "base_uri": "https://localhost:8080/"
    },
    "id": "2-pG0giqlLZ1",
    "outputId": "6d6ae227-4c25-4f2a-bc7d-0535d582e764"
   },
   "outputs": [],
   "source": []
  },
  {
   "cell_type": "markdown",
   "metadata": {
    "id": "1wnfMficqkzO"
   },
   "source": [
    "### 3 - Filtrez les livres publiés après 1800."
   ]
  },
  {
   "cell_type": "code",
   "execution_count": null,
   "metadata": {
    "colab": {
     "base_uri": "https://localhost:8080/"
    },
    "id": "evDPhfAApoIV",
    "outputId": "d0e133e0-34e2-4913-e69a-1a9fbcf2f00c"
   },
   "outputs": [],
   "source": []
  },
  {
   "cell_type": "markdown",
   "metadata": {
    "id": "3FuU4HoBrGgT"
   },
   "source": [
    "### 4 - Comptez le nombre total de livres disponibles.\n",
    "1.   Est-ce une transformation ou une action ?\n",
    "2.   Le RDD est-il maintenu à ce stade ?\n",
    "\n"
   ]
  },
  {
   "cell_type": "code",
   "execution_count": null,
   "metadata": {
    "colab": {
     "base_uri": "https://localhost:8080/"
    },
    "id": "KuYEoebMsutt",
    "outputId": "14a8e7c0-ea7c-45f0-9001-8c76bf24fc39"
   },
   "outputs": [
    {
     "data": {
      "text/plain": [
       "6"
      ]
     },
     "execution_count": 7,
     "metadata": {},
     "output_type": "execute_result"
    }
   ],
   "source": []
  },
  {
   "cell_type": "markdown",
   "metadata": {
    "id": "Vp_YzMLarF25"
   },
   "source": [
    "### 5 - Utilisez distinct pour obtenir les genres uniques de livres. Quelle est la nature de l’opération distinct (narrow ou wide) ?"
   ]
  },
  {
   "cell_type": "code",
   "execution_count": null,
   "metadata": {
    "colab": {
     "base_uri": "https://localhost:8080/"
    },
    "id": "ErgF7pyeq7gY",
    "outputId": "fd771385-25dc-41c3-9d34-00203b4a007c"
   },
   "outputs": [],
   "source": []
  },
  {
   "cell_type": "markdown",
   "metadata": {
    "id": "aXpq5c4a36X7"
   },
   "source": [
    "## Exercice 2: Map-Reduce"
   ]
  },
  {
   "cell_type": "markdown",
   "metadata": {
    "id": "D8TF9YWpEoYB"
   },
   "source": [
    "Nous avons un jeu de données contenant des informations sur des produits, classés par catégories, ainsi que leur chiffre d'affaires.\n",
    "\n",
    "- **Colonnes** :\n",
    "  - `PDT`: Nom du produit\n",
    "  - `CAT`: Catégorie du produit\n",
    "  - `CA`: Chiffre d'affaires"
   ]
  },
  {
   "cell_type": "code",
   "execution_count": 9,
   "metadata": {
    "id": "VW3fh0h2ssun"
   },
   "outputs": [],
   "source": [
    "sales_rdd = sc.parallelize(\n",
    "    [(\"PDT 1\", \"CAT 1\", 200),\n",
    "     (\"PDT 2\", \"CAT 1\", 100),\n",
    "     (\"PDT 3\", \"CAT 2\", 300),\n",
    "     (\"PDT 4\", \"CAT 2\",  350),\n",
    "    (\"PDT 5\", \"CAT 2\", 250)]\n",
    ")"
   ]
  },
  {
   "cell_type": "markdown",
   "metadata": {
    "id": "gxk1P9f-3zCp"
   },
   "source": [
    "#"
   ]
  },
  {
   "cell_type": "markdown",
   "metadata": {
    "id": "uKs1-BrN4Adx"
   },
   "source": [
    "### 1 - Caluler la somme du chiffre d'affaires des produits appartenant à la categorie 2"
   ]
  },
  {
   "cell_type": "code",
   "execution_count": null,
   "metadata": {
    "colab": {
     "base_uri": "https://localhost:8080/"
    },
    "id": "h3_R5m-61rxc",
    "outputId": "f73bd79a-75df-439c-d3fe-6f1a1171890c"
   },
   "outputs": [],
   "source": []
  },
  {
   "cell_type": "markdown",
   "metadata": {
    "id": "9jD_ptch4rUz"
   },
   "source": [
    "### 2 - Calculer la somme du chiffre d'affaires pour chaque catégorie de produits"
   ]
  },
  {
   "cell_type": "code",
   "execution_count": null,
   "metadata": {
    "colab": {
     "base_uri": "https://localhost:8080/"
    },
    "id": "2Vftoi-v4pfn",
    "outputId": "789de29d-7f37-4a0e-b974-bf1763a1ac4f"
   },
   "outputs": [],
   "source": []
  },
  {
   "cell_type": "markdown",
   "metadata": {
    "id": "2f574fdf"
   },
   "source": [
    "\n",
    "## Exercice 3 : Analyse des Transactions avec Spark SQL\n",
    "\n",
    "Nous avons un jeu de données transactionnel contenant des informations sur les transactions effectuées par des clients. Chaque transaction est associée à un client et à un produit, avec un montant correspondant.\n",
    "\n",
    "- **Colonnes** :\n",
    "  - `transaction_id`: l'identifiant unique de chaque transaction.\n",
    "  - `customer_id`: l'identifiant du client.\n",
    "  - `product_id`: l'identifiant du produit.\n",
    "  - `product_category`: catégorie produit.\n",
    "  - `amount`: le montant de la transaction.\n",
    "  - `date`: la date de la transaction.\n"
   ]
  },
  {
   "cell_type": "code",
   "execution_count": null,
   "metadata": {
    "id": "GSAc3K5t9BmM"
   },
   "outputs": [],
   "source": [
    "from pyspark.sql import SparkSession\n",
    "from pyspark.sql import functions as F\n",
    "spark = SparkSession.builder.getOrCreate()"
   ]
  },
  {
   "cell_type": "markdown",
   "metadata": {
    "id": "jWG79c0NEoYS"
   },
   "source": [
    "### 1 - **Charger les données** dans un DataFrame Spark à partir d'un fichier CSV."
   ]
  },
  {
   "cell_type": "code",
   "execution_count": null,
   "metadata": {
    "colab": {
     "base_uri": "https://localhost:8080/",
     "height": 206
    },
    "id": "nHt2Cmdk8gya",
    "outputId": "883c1d6f-79e6-44f4-c46a-1d290e25e864"
   },
   "outputs": [],
   "source": []
  },
  {
   "cell_type": "markdown",
   "metadata": {
    "id": "Vt--zdW2EoYS"
   },
   "source": [
    "### 2 - Calculer le **chiffre d'affaire généré par chaque categorie de produit** et afficher les top 5 catégories.\n"
   ]
  },
  {
   "cell_type": "code",
   "execution_count": null,
   "metadata": {
    "colab": {
     "base_uri": "https://localhost:8080/",
     "height": 206
    },
    "id": "87VJttRGP4A8",
    "outputId": "6faaebd1-7878-455f-e71e-ff59ed1e486a"
   },
   "outputs": [],
   "source": []
  },
  {
   "cell_type": "markdown",
   "metadata": {
    "id": "5YMNxwetEoYS"
   },
   "source": [
    "### 3 - Filtrer les transactions dont le montant est supérieur à **200** et afficher les résultats."
   ]
  },
  {
   "cell_type": "code",
   "execution_count": null,
   "metadata": {
    "colab": {
     "base_uri": "https://localhost:8080/",
     "height": 206
    },
    "id": "82JR5DlLRJJg",
    "outputId": "e6710b81-eaf5-4b62-a6f3-279c4fc794de"
   },
   "outputs": [],
   "source": []
  },
  {
   "cell_type": "markdown",
   "metadata": {
    "id": "38pqIWPLEoYS"
   },
   "source": [
    "### 4 - **Trouver le client ayant effectué la plus grande transaction en termes de chiffre d'affaires**"
   ]
  },
  {
   "cell_type": "code",
   "execution_count": null,
   "metadata": {
    "colab": {
     "base_uri": "https://localhost:8080/",
     "height": 81
    },
    "id": "aitFlPv5RzUg",
    "outputId": "3369664c-6613-41da-b025-c7481c0c4356"
   },
   "outputs": [],
   "source": []
  }
 ],
 "metadata": {
  "colab": {
   "provenance": []
  },
  "kernelspec": {
   "display_name": "Python 3",
   "name": "python3"
  },
  "language_info": {
   "name": "python"
  }
 },
 "nbformat": 4,
 "nbformat_minor": 0
}
